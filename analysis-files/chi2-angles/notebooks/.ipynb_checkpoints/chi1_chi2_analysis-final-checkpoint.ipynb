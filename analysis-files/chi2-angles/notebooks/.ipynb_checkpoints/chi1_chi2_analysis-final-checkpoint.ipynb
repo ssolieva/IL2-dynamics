{
 "cells": [
  {
   "cell_type": "code",
   "execution_count": 1,
   "id": "396ab840",
   "metadata": {},
   "outputs": [],
   "source": [
    "# note: I and L have chi1, chi2 angles\n",
    "# note: V only has chi1 angle\n",
    "\n",
    "import mdtraj as md\n",
    "import matplotlib.pyplot as plt\n",
    "import numpy as np"
   ]
  },
  {
   "cell_type": "markdown",
   "id": "3503d098",
   "metadata": {},
   "source": [
    "# Analyze data from bowmore"
   ]
  },
  {
   "cell_type": "markdown",
   "id": "a33ebdcb",
   "metadata": {},
   "source": [
    "## Import data files"
   ]
  },
  {
   "cell_type": "code",
   "execution_count": 3,
   "id": "831beaba",
   "metadata": {},
   "outputs": [],
   "source": [
    "wt_chi1_chi2  = np.load(\"../data/system_IL2_simulations_1m47_chi1_chi2_angles.npy\")\n",
    "s15_chi1_chi2 = np.load(\"../data/system_IL2_simulations_seq15_chi1_chi2_angles.npy\")\n",
    "s1_chi1_chi2  = np.load(\"../data/system_IL2_simulations_seq1_c123s_chi1_chi2_angles.npy\")\n",
    "\n",
    "wt_resis = np.load(\"../data/system_IL2_simulations_1m47_chi1_chi2_angles_resi_names.npy\",       allow_pickle=True)\n",
    "s15_resis= np.load(\"../data/system_IL2_simulations_seq15_chi1_chi2_angles_resi_names.npy\",      allow_pickle=True)\n",
    "s1_resis = np.load(\"../data/system_IL2_simulations_seq1_c123s_chi1_chi2_angles_resi_names.npy\", allow_pickle=True)\n",
    "\n",
    "wt_chi1  = np.concatenate(wt_chi1_chi2[0], axis=1)\n",
    "wt_chi2  = np.concatenate(wt_chi1_chi2[1], axis=1)\n",
    "s15_chi1 = np.concatenate(s15_chi1_chi2[0], axis=1)\n",
    "s15_chi2 = np.concatenate(s15_chi1_chi2[1], axis=1)\n",
    "s1_chi1  = np.concatenate(s1_chi1_chi2[0], axis=1)\n",
    "s1_chi2  = np.concatenate(s1_chi1_chi2[1], axis=1)"
   ]
  },
  {
   "cell_type": "code",
   "execution_count": 4,
   "id": "7fce2e23",
   "metadata": {},
   "outputs": [],
   "source": [
    "def generate_torsion_angle(data_array):\n",
    "    '''\n",
    "    Mean Chi Gauche+  = mean omega guache+ angles (excluding PROLINE)\n",
    "                        (  -120 <= chi <= 0 )\n",
    "    Mean Chi Gauche-  = mean omega gauche- angles (excluding PROLINE)\n",
    "                        ( 0 < chi <= 120 )\n",
    "    Mean Chi Trans    = mean omega trans angles (excluding PROLINE)\n",
    "                                        ( -180 <= chi < -120 ) and ( 120 < chi <= 180 )\n",
    "                    '''\n",
    "\n",
    "    import numpy as np\n",
    "    data = data_array * 180 / np.pi\n",
    "    g_minus = []\n",
    "    trans = []\n",
    "    g_plus = []\n",
    "    for i in range(len(data)):\n",
    "        if data[i] > 0 and data[i] <= 120:\n",
    "            g_minus.append(i)\n",
    "        if data[i] > 120 and data[i] <= 180:\n",
    "            trans.append(i)\n",
    "        if data[i] >= -180 and data[i] < -120:\n",
    "            trans.append(i)\n",
    "        if data[i] >= -120 and data[i] <= 0:\n",
    "            g_plus.append(i)\n",
    "    g_minus_frames = len(g_minus) # number of frames\n",
    "    trans_frames = len(trans)\n",
    "    g_plus_frames = len(g_plus)\n",
    "    return g_minus_frames, trans_frames, g_plus_frames\n",
    "\n",
    "def generate_torsion_frames(data):\n",
    "    g_minus_frames_all = []\n",
    "    trans_frames_all = []\n",
    "    g_plus_frames_all = []\n",
    "    for i in range(len(data)):\n",
    "        g_minus_frames, trans_frames, g_plus_frames = generate_torsion_angle(data[i])\n",
    "        g_minus_frames_all.append(g_minus_frames)\n",
    "        trans_frames_all.append(trans_frames)\n",
    "        g_plus_frames_all.append(g_plus_frames)\n",
    "    return g_minus_frames_all, trans_frames_all, g_plus_frames_all"
   ]
  },
  {
   "cell_type": "code",
   "execution_count": 7,
   "id": "3b65be0e",
   "metadata": {
    "scrolled": true
   },
   "outputs": [
    {
     "name": "stdout",
     "output_type": "stream",
     "text": [
      "calculating angles\n",
      "calculating angles\n",
      "calculating angles\n"
     ]
    }
   ],
   "source": [
    "torsion_angles = []\n",
    "for i in [wt_chi2, s15_chi2, s1_chi2]:\n",
    "    print('calculating angles')\n",
    "    dataset = i\n",
    "    g_minus_frames_all, trans_frames_all, g_plus_frames_all = generate_torsion_frames(dataset)\n",
    "    torsion_angles.append([g_minus_frames_all,trans_frames_all, g_plus_frames_all])"
   ]
  },
  {
   "cell_type": "code",
   "execution_count": 8,
   "id": "5a41f0b5",
   "metadata": {},
   "outputs": [
    {
     "name": "stdout",
     "output_type": "stream",
     "text": [
      "3\n",
      "WT: 3\n",
      "S15: 3\n",
      "S1: 3\n",
      "[LEU12 LEU14 LEU17 LEU18 LEU19 LEU21 ILE24 LEU25 ILE28 LEU36 LEU40 LEU53\n",
      " LEU56 LEU59 LEU63 LEU66 LEU70 LEU72 LEU80 LEU85 ILE86 ILE89 ILE92 LEU94\n",
      " LEU96 ILE114 LEU118 ILE122 ILE128 ILE129 LEU132]\n",
      "[LEU12 LEU14 LEU17 LEU18 LEU19 LEU21 ILE24 LEU25 LEU28 LEU36 LEU40 LEU53\n",
      " LEU56 LEU59 LEU63 LEU66 LEU70 LEU80 LEU85 ILE86 ILE89 ILE92 LEU94 LEU96\n",
      " ILE114 ILE115 LEU118 ILE122 ILE128 ILE129 LEU132]\n",
      "[LEU12 LEU14 LEU17 LEU18 LEU19 LEU21 ILE24 LEU25 LEU28 LEU36 LEU39 LEU40\n",
      " LEU53 LEU56 LEU59 LEU63 LEU66 LEU70 ILE80 ILE87 LEU92 LEU94 ILE112 ILE113\n",
      " LEU116 ILE120 ILE126 ILE127 LEU130]\n"
     ]
    }
   ],
   "source": [
    "print(len(torsion_angles))\n",
    "print('WT:', len(torsion_angles[0]))\n",
    "print('S15:',len(torsion_angles[1]))\n",
    "print('S1:', len(torsion_angles[2]))\n",
    "\n",
    "print(wt_resis)\n",
    "print(s15_resis)\n",
    "print(s1_resis)"
   ]
  },
  {
   "cell_type": "code",
   "execution_count": 52,
   "id": "84fcb632",
   "metadata": {},
   "outputs": [],
   "source": [
    "for i in range(len(wt_resis)):\n",
    "    plt.figure(figsize=[3,3])\n",
    "    plt.bar([0,1,2], [torsion_angles[0][0][i]/250100, \n",
    "                      torsion_angles[0][1][i]/250100, \n",
    "                      torsion_angles[0][2][i]/250100], color='#888985', alpha=0.7, edgecolor='k')\n",
    "    plt.xticks([0,1,2], ['gauche -', 'trans', 'gauche +'], weight='bold')\n",
    "    plt.yticks(weight='bold')\n",
    "    plt.title(wt_resis[i], fontsize=14, weight='bold')\n",
    "    plt.ylim(0,1)\n",
    "    plt.tight_layout()\n",
    "    plt.savefig(f'../figures/individual_distributions/WT/WT_res_{wt_resis[i]}.png', dpi=300, transparent=True)\n",
    "    plt.close()"
   ]
  },
  {
   "cell_type": "code",
   "execution_count": 53,
   "id": "1f080704",
   "metadata": {},
   "outputs": [],
   "source": [
    "for i in range(len(s15_resis)):\n",
    "    plt.figure(figsize=[3,3])\n",
    "    plt.bar([0,1,2], [torsion_angles[1][0][i]/250100, \n",
    "                      torsion_angles[1][1][i]/250100, \n",
    "                      torsion_angles[1][2][i]/250100], color='#5AC8E0', alpha=0.7, edgecolor='k')\n",
    "    plt.xticks([0,1,2], ['gauche -', 'trans', 'gauche +'], weight='bold')\n",
    "    plt.yticks(weight='bold')\n",
    "    plt.title(s15_resis[i], fontsize=14, weight='bold')\n",
    "    plt.ylim(0,1)\n",
    "    plt.tight_layout()\n",
    "    plt.savefig(f'../figures/individual_distributions/S15/S15_res_{s15_resis[i]}.png', dpi=300, transparent=True)\n",
    "    plt.close()"
   ]
  },
  {
   "cell_type": "code",
   "execution_count": 54,
   "id": "5c345037",
   "metadata": {},
   "outputs": [],
   "source": [
    "for i in range(len(s1_resis)):\n",
    "    plt.figure(figsize=[3,3])\n",
    "    plt.bar([0,1,2], [torsion_angles[2][0][i]/250100, \n",
    "                      torsion_angles[2][1][i]/250100, \n",
    "                      torsion_angles[2][2][i]/250100], color='#BC60A5', alpha=0.7, edgecolor='k')\n",
    "    plt.xticks([0,1,2], ['gauche -', 'trans', 'gauche +'], weight='bold')\n",
    "    plt.yticks(weight='bold')\n",
    "    plt.title(s1_resis[i], fontsize=14, weight='bold')\n",
    "    plt.ylim(0,1)\n",
    "    plt.tight_layout()\n",
    "    plt.savefig(f'../figures/individual_distributions/S1/S1_res_{s1_resis[i]}.png', dpi=300, transparent=True)\n",
    "    plt.close()"
   ]
  },
  {
   "cell_type": "code",
   "execution_count": 90,
   "id": "f169c599",
   "metadata": {
    "scrolled": true
   },
   "outputs": [
    {
     "name": "stdout",
     "output_type": "stream",
     "text": [
      "LEU12 LEU12 LEU12\n",
      "LEU14 LEU14 LEU14\n",
      "LEU17 LEU17 LEU17\n",
      "LEU18 LEU18 LEU18\n",
      "LEU19 LEU19 LEU19\n",
      "LEU21 LEU21 LEU21\n",
      "ILE24 ILE24 ILE24\n",
      "LEU25 LEU25 LEU25\n",
      "LEU36 LEU36 LEU36\n",
      "LEU40 LEU40 LEU40\n",
      "LEU53 LEU53 LEU53\n",
      "LEU56 LEU56 LEU56\n",
      "LEU59 LEU59 LEU59\n",
      "LEU63 LEU63 LEU63\n",
      "LEU66 LEU66 LEU66\n",
      "LEU70 LEU70 LEU70\n"
     ]
    }
   ],
   "source": [
    "WT_is  = [0,1,2,3,4,5,6,7,8,9,10,11,12,13,14,15,16,18]\n",
    "S15_is = [0,1,2,3,4,5,6,7,8,9,10,11,12,13,14,15,16,17]\n",
    "S1_is  = [0,1,2,3,4,5,6,7,8,9,11,12,13,14,15,16,17,18]\n",
    "\n",
    "#LEU53 LEU56 LEU59 LEU63 LEU66 LEU70 \n",
    "\n",
    "resins = ['LEU12','LEU14','LEU17', 'LEU18', 'LEU19','LEU21','ILE24','LEU25','LEU28','LEU36','LEU40',\n",
    "         'LEU53','LEU56','LEU59','LEU63','LEU66','LEU70','LEU80']\n",
    "\n",
    "for i in range(len(resins)):\n",
    "    resin = resins[i]\n",
    "    WT_i  = WT_is[i]\n",
    "    S15_i = S15_is[i]\n",
    "    S1_i  = S1_is[i]\n",
    "    if str(wt_resis[WT_i]) == resin and str(s15_resis[S15_i]) == resin and str(s1_resis[S1_i]) == resin:\n",
    "        plt.figure(figsize=[3,3])\n",
    "        print(wt_resis[WT_i], s15_resis[S15_i], s1_resis[S1_i])\n",
    "        plt.bar(np.array([0,4,8]),   [torsion_angles[0][0][WT_i]/250100, torsion_angles[0][1][WT_i]/250100, torsion_angles[0][2][WT_i]/250100], color='#888985', edgecolor='k', alpha=0.7, label='WT')\n",
    "        plt.bar(np.array([0,4,8])+1, [torsion_angles[1][0][S15_i]/250100, torsion_angles[1][1][S15_i]/250100, torsion_angles[1][2][S15_i]/250100], color='#5AC8E0', edgecolor='k', alpha=0.7, label='S15')\n",
    "        plt.bar(np.array([0,4,8])+2, [torsion_angles[2][0][S1_i]/250100, torsion_angles[2][1][S1_i]/250100, torsion_angles[2][2][S1_i]/250100], color='#BC60A5', edgecolor='k', alpha=0.7, label='S1')\n",
    "        \n",
    "        plt.title(f'{wt_resis[WT_i]}', weight='bold', fontsize=14)\n",
    "        plt.xticks([1,5,9], ['gauche -','trans','gauche +'], weight='bold')\n",
    "        plt.yticks(weight='bold')\n",
    "        plt.ylim(0,1)\n",
    "        plt.legend(loc='upper right')\n",
    "            \n",
    "        plt.tight_layout()\n",
    "        plt.savefig(f'../figures/combined_distributions/WT_S15_S1/WT{wt_resis[WT_i]}_S15{s15_resis[S15_i]}_S1{s1_resis[S1_i]}.png', dpi=300, transparent=True)\n",
    "        plt.close()"
   ]
  },
  {
   "cell_type": "code",
   "execution_count": 140,
   "id": "a6f9630a",
   "metadata": {},
   "outputs": [
    {
     "name": "stdout",
     "output_type": "stream",
     "text": [
      "ILE28 LEU28 LEU28\n"
     ]
    }
   ],
   "source": [
    "WT_is  = [8]\n",
    "S15_is = [8]\n",
    "S1_is  = [8]\n",
    "\n",
    "#LEU53 LEU56 LEU59 LEU63 LEU66 LEU70 \n",
    "\n",
    "resins = ['ILE28']\n",
    "\n",
    "\n",
    "for i in range(len(resins)):\n",
    "    resin = resins[i]\n",
    "    WT_i  = WT_is[i]\n",
    "    S15_i = S15_is[i]\n",
    "    S1_i  = S1_is[i]\n",
    "    if str(wt_resis[WT_i]) == resin:# and str(s15_resis[S15_i]) == resin and str(s1_resis[S1_i]) == resin:\n",
    "        plt.figure(figsize=[3,3])\n",
    "        print(wt_resis[WT_i], s15_resis[S15_i], s1_resis[S1_i])\n",
    "        plt.bar(np.array([0,4,8]),   [torsion_angles[0][0][WT_i]/250100, torsion_angles[0][1][WT_i]/250100, torsion_angles[0][2][WT_i]/250100], color='#888985', edgecolor='k', alpha=0.7, label='WT')\n",
    "        plt.bar(np.array([0,4,8])+1, [torsion_angles[1][0][S15_i]/250100, torsion_angles[1][1][S15_i]/250100, torsion_angles[1][2][S15_i]/250100], color='#5AC8E0', edgecolor='k', alpha=0.7, label='S15')\n",
    "        plt.bar(np.array([0,4,8])+2, [torsion_angles[2][0][S1_i]/250100, torsion_angles[2][1][S1_i]/250100, torsion_angles[2][2][S1_i]/250100], color='#BC60A5', edgecolor='k', alpha=0.7, label='S1')\n",
    "        \n",
    "        plt.title(f'{wt_resis[WT_i]}', weight='bold', fontsize=14)\n",
    "        plt.xticks([1,5,9], ['gauche -','trans','gauche +'], weight='bold')\n",
    "        plt.yticks(weight='bold')\n",
    "        plt.ylim(0,1)\n",
    "        plt.legend(loc='upper right')\n",
    "            \n",
    "        plt.tight_layout()\n",
    "        plt.savefig(f'../figures/combined_distributions/WT_S15_S1/WT{wt_resis[WT_i]}_S15{s15_resis[S15_i]}_S1{s1_resis[S1_i]}.png', dpi=300, transparent=True)\n",
    "        plt.close()"
   ]
  },
  {
   "cell_type": "markdown",
   "id": "c989e3a8",
   "metadata": {},
   "source": [
    "# all, after res 80: "
   ]
  },
  {
   "cell_type": "code",
   "execution_count": 138,
   "id": "6064ea64",
   "metadata": {},
   "outputs": [
    {
     "name": "stdout",
     "output_type": "stream",
     "text": [
      "LEU80 LEU80 ILE80\n",
      "ILE89 ILE89 ILE87\n",
      "LEU94 LEU94 LEU92\n",
      "LEU96 LEU96 LEU94\n",
      "ILE114 ILE114 ILE112\n",
      "LEU118 LEU118 LEU116\n",
      "ILE122 ILE122 ILE120\n",
      "ILE128 ILE128 ILE126\n",
      "ILE129 ILE129 ILE127\n",
      "LEU132 LEU132 LEU130\n"
     ]
    }
   ],
   "source": [
    "# after 80:\n",
    "\n",
    "WT_is  =  [18, 21,23,24,25,26, 27, 28, 29, 30]\n",
    "S15_is =  [17, 20,22,23,24,26, 27, 28, 29, 30]\n",
    "S1_is  =  [18, 19,20,21,22,24, 25, 26, 27, 28]\n",
    "\n",
    "resins = ['LEU28', 'LEU80','ILE89','LEU94','LEU96','ILE114','LEU118','ILE122','ILE128', 'ILE129', 'LEU132']\n",
    "          \n",
    "    \n",
    "for i in range(len(resins)):\n",
    "    resin = resins[i]\n",
    "    WT_i  = WT_is[i]\n",
    "    S15_i = S15_is[i]\n",
    "    S1_i  = S1_is[i]\n",
    "    if str(wt_resis[WT_i]) == resin and str(s15_resis[S15_i]) == resin:# and str(s1_resis[S1_i]) == resin:\n",
    "        plt.figure(figsize=[3,3])\n",
    "        print(wt_resis[WT_i], s15_resis[S15_i], s1_resis[S1_i])\n",
    "        plt.bar(np.array([0,4,8]),   [torsion_angles[0][0][WT_i]/250100, torsion_angles[0][1][WT_i]/250100, torsion_angles[0][2][WT_i]/250100], color='#888985', edgecolor='k', alpha=0.7, label='WT')\n",
    "        plt.bar(np.array([0,4,8])+1, [torsion_angles[1][0][S15_i]/250100, torsion_angles[1][1][S15_i]/250100, torsion_angles[1][2][S15_i]/250100], color='#5AC8E0', edgecolor='k', alpha=0.7, label='S15')\n",
    "        plt.bar(np.array([0,4,8])+2, [torsion_angles[2][0][S1_i]/250100, torsion_angles[2][1][S1_i]/250100, torsion_angles[2][2][S1_i]/250100], color='#BC60A5', edgecolor='k', alpha=0.7, label='S1')\n",
    "        \n",
    "        plt.title(f'{wt_resis[WT_i]}', weight='bold', fontsize=14)\n",
    "        plt.xticks([1,5,9], ['gauche -','trans','gauche +'], weight='bold')\n",
    "        plt.yticks(weight='bold')\n",
    "        plt.ylim(0,1)\n",
    "        plt.legend(loc='upper right')\n",
    "            \n",
    "        plt.tight_layout()\n",
    "        plt.savefig(f'../figures/combined_distributions/WT_S15_S1/WT{wt_resis[WT_i]}_S15{s15_resis[S15_i]}_S1{s1_resis[S1_i]}.png', dpi=300, transparent=True)\n",
    "        plt.close()"
   ]
  },
  {
   "cell_type": "markdown",
   "id": "41b80bae",
   "metadata": {},
   "source": [
    "# WT and S15 only\n"
   ]
  },
  {
   "cell_type": "code",
   "execution_count": 133,
   "id": "2fce41f3",
   "metadata": {},
   "outputs": [
    {
     "name": "stdout",
     "output_type": "stream",
     "text": [
      "LEU85 LEU85\n",
      "ILE86 ILE86\n",
      "ILE92 ILE92\n"
     ]
    }
   ],
   "source": [
    "# after 80:\n",
    "\n",
    "WT_is  =  [19,20,22]\n",
    "S15_is =  [18,19,21]\n",
    "\n",
    "resins = ['LEU85','ILE86','ILE92']\n",
    "          \n",
    "    \n",
    "for i in range(len(resins)):\n",
    "    resin = resins[i]\n",
    "    WT_i  = WT_is[i]\n",
    "    S15_i = S15_is[i]\n",
    "\n",
    "    if str(wt_resis[WT_i]) == resin and str(s15_resis[S15_i]) == resin:\n",
    "        plt.figure(figsize=[3,3])\n",
    "        print(wt_resis[WT_i], s15_resis[S15_i])\n",
    "        plt.bar(np.array([0,4,8]),   [torsion_angles[0][0][WT_i]/250100, torsion_angles[0][1][WT_i]/250100, torsion_angles[0][2][WT_i]/250100], color='#888985', edgecolor='k', alpha=0.7, label='WT')\n",
    "        plt.bar(np.array([0,4,8])+1, [torsion_angles[1][0][S15_i]/250100, torsion_angles[1][1][S15_i]/250100, torsion_angles[1][2][S15_i]/250100], color='#5AC8E0', edgecolor='k', alpha=0.7, label='S15')\n",
    "        #plt.bar(np.array([0,4,8])+2, [torsion_angles[2][0][S1_i]/250100, torsion_angles[2][1][S1_i]/250100, torsion_angles[2][2][S1_i]/250100], color='#BC60A5', edgecolor='k', alpha=0.7, label='S1')\n",
    "        \n",
    "        plt.title(f'{wt_resis[WT_i]}', weight='bold', fontsize=14)\n",
    "        plt.xticks([1,5,9], ['gauche -','trans','gauche +'], weight='bold')\n",
    "        plt.yticks(weight='bold')\n",
    "        plt.ylim(0,1)\n",
    "        plt.legend(loc='upper right')\n",
    "            \n",
    "        plt.tight_layout()\n",
    "        plt.savefig(f'../figures/combined_distributions/WT_S15/WT{wt_resis[WT_i]}_S15{s15_resis[S15_i]}.png', dpi=300, transparent=True)\n",
    "        plt.close()"
   ]
  }
 ],
 "metadata": {
  "kernelspec": {
   "display_name": "Python 3 (ipykernel)",
   "language": "python",
   "name": "python3"
  },
  "language_info": {
   "codemirror_mode": {
    "name": "ipython",
    "version": 3
   },
   "file_extension": ".py",
   "mimetype": "text/x-python",
   "name": "python",
   "nbconvert_exporter": "python",
   "pygments_lexer": "ipython3",
   "version": "3.7.0"
  }
 },
 "nbformat": 4,
 "nbformat_minor": 5
}
