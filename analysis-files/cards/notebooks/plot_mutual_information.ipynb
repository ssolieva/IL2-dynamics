{
 "cells": [
  {
   "cell_type": "code",
   "execution_count": 2,
   "id": "8ec33026",
   "metadata": {},
   "outputs": [],
   "source": [
    "import numpy as np\n",
    "import matplotlib.pyplot as plt\n",
    "import pandas as pd\n",
    "import math\n",
    "import scipy.stats as sps\n",
    "\n",
    "WT_c= '#888985'\n",
    "S15_c = '#5AC8E0'\n",
    "S1_c = '#BC60A5'"
   ]
  },
  {
   "cell_type": "code",
   "execution_count": 5,
   "id": "a9e6a3a9-4f3a-4e23-b5a1-32f78ab8b5e5",
   "metadata": {},
   "outputs": [
    {
     "name": "stdout",
     "output_type": "stream",
     "text": [
      "        WT_MI     S1_MI    S15_MI  S1_L56A_MI  S1_V84A_MI\n",
      "0    0.000063  0.000096  0.000223    0.000090    0.000301\n",
      "1    0.001453  0.001470  0.001555    0.001136    0.000965\n",
      "2    0.006569  0.018274  0.011010    0.004412    0.006471\n",
      "3    0.012876  0.010979  0.016490    0.010190    0.013301\n",
      "4    0.015002  0.009053  0.007841    0.009754    0.010184\n",
      "..        ...       ...       ...         ...         ...\n",
      "128  0.032114  0.011918  0.010392    0.058242    0.047896\n",
      "129  0.031516  0.005395  0.024758    0.063992    0.040598\n",
      "130  0.051546  0.006485  0.040499    0.062047    0.041839\n",
      "131  0.049997  0.023108  0.028367    0.070000    0.031246\n",
      "132  0.017070  0.008079  0.019776    0.021044    0.031116\n",
      "\n",
      "[133 rows x 5 columns]\n"
     ]
    }
   ],
   "source": [
    "df_WT_MI = pd.read_csv('WT_sum_MI.csv', header=None, names=['WT_MI'])\n",
    "df_S1_MI = pd.read_csv('S1_sum_MI.csv', header=None, names=['S1_MI'])\n",
    "df_S15_MI = pd.read_csv('S15_sum_MI.csv', header=None, names=['S15_MI'])\n",
    "df_S1_L56A_MI = pd.read_csv('S1_L56A_sum_MI.csv', header=None, names=['S1_L56A_MI'])\n",
    "df_S1_V84A_MI = pd.read_csv('S1_V84A_sum_MI.csv', header=None, names=['S1_V84A_MI'])\n",
    "df_MI_total = pd.concat([df_WT_MI, df_S1_MI, df_S15_MI, df_S1_L56A_MI, df_S1_V84A_MI], axis=1)\n",
    "print(df_MI_total)"
   ]
  },
  {
   "cell_type": "code",
   "execution_count": 6,
   "id": "56e4d8ae-7f71-4be9-84d7-1550fe93e143",
   "metadata": {},
   "outputs": [
    {
     "name": "stdout",
     "output_type": "stream",
     "text": [
      "        WT_MI     S1_MI    S15_MI  S1_L56A_MI  S1_V84A_MI     S1-WT    S15-WT  \\\n",
      "0    0.000063  0.000096  0.000223    0.000090    0.000301  0.000034  0.000160   \n",
      "1    0.001453  0.001470  0.001555    0.001136    0.000965  0.000018  0.000102   \n",
      "2    0.006569  0.018274  0.011010    0.004412    0.006471  0.011705  0.004441   \n",
      "3    0.012876  0.010979  0.016490    0.010190    0.013301 -0.001897  0.003614   \n",
      "4    0.015002  0.009053  0.007841    0.009754    0.010184 -0.005949 -0.007162   \n",
      "..        ...       ...       ...         ...         ...       ...       ...   \n",
      "128  0.032114  0.011918  0.010392    0.058242    0.047896 -0.020197 -0.021722   \n",
      "129  0.031516  0.005395  0.024758    0.063992    0.040598 -0.026121 -0.006759   \n",
      "130  0.051546  0.006485  0.040499    0.062047    0.041839 -0.045061 -0.011047   \n",
      "131  0.049997  0.023108  0.028367    0.070000    0.031246 -0.026889 -0.021630   \n",
      "132  0.017070  0.008079  0.019776    0.021044    0.031116 -0.008991  0.002707   \n",
      "\n",
      "       S15-S1  S1_L56A-S1  S1_V84A-S1  \n",
      "0    0.000127   -0.000007    0.000205  \n",
      "1    0.000085   -0.000335   -0.000506  \n",
      "2   -0.007265   -0.013862   -0.011803  \n",
      "3    0.005511   -0.000790    0.002322  \n",
      "4   -0.001213    0.000701    0.001131  \n",
      "..        ...         ...         ...  \n",
      "128 -0.001526    0.046325    0.035978  \n",
      "129  0.019363    0.058597    0.035203  \n",
      "130  0.034014    0.055563    0.035354  \n",
      "131  0.005259    0.046892    0.008138  \n",
      "132  0.011697    0.012965    0.023037  \n",
      "\n",
      "[133 rows x 10 columns]\n"
     ]
    }
   ],
   "source": [
    "df_MI_total['S1-WT'] = df_MI_total['S1_MI'] - df_MI_total['WT_MI']\n",
    "df_MI_total['S15-WT'] = df_MI_total['S15_MI'] - df_MI_total['WT_MI']\n",
    "df_MI_total['S15-S1'] = df_MI_total['S15_MI'] - df_MI_total['S1_MI']\n",
    "df_MI_total['S1_L56A-S1'] = df_MI_total['S1_L56A_MI'] - df_MI_total['S1_MI']\n",
    "df_MI_total['S1_V84A-S1'] = df_MI_total['S1_V84A_MI'] - df_MI_total['S1_MI']\n",
    "print(df_MI_total)"
   ]
  },
  {
   "cell_type": "code",
   "execution_count": 9,
   "id": "83a99d2e-2aae-456e-83df-9a4a16e485af",
   "metadata": {},
   "outputs": [],
   "source": [
    "df_MI_total['WT_MI'].to_csv('WT_sum_MI_final.txt', header=None, index=None, sep=' ', mode='w')\n",
    "df_MI_total['S1_MI'].to_csv('S1_sum_MI_final.txt', header=None, index=None, sep=' ', mode='w')\n",
    "df_MI_total['S15_MI'].to_csv('S15_sum_MI_final.txt', header=None, index=None, sep=' ', mode='w')\n",
    "df_MI_total['S1-WT'].to_csv('S1-WT_MI_final.txt', header=None, index=None, sep=' ', mode='w')\n",
    "df_MI_total['S15-WT'].to_csv('S15-WT_sum_MI_final.txt', header=None, index=None, sep=' ', mode='w')\n",
    "df_MI_total['S15-S1'].to_csv('S15-S1_sum_MI_final.txt', header=None, index=None, sep=' ', mode='w')\n",
    "df_MI_total['S1_L56A_MI'].to_csv('S1_L56A_sum_MI_final.txt', header=None, index=None, sep=' ', mode='w')\n",
    "df_MI_total['S1_V84A_MI'].to_csv('S1_V84A_sum_MI_final.txt', header=None, index=None, sep=' ', mode='w')\n",
    "df_MI_total['S1_L56A-S1'].to_csv('S1_L56A-S1_sum_MI_final.txt', header=None, index=None, sep=' ', mode='w')\n",
    "df_MI_total['S1_V84A-S1'].to_csv('S1_V84A-S1_sum_MI_final.txt', header=None, index=None, sep=' ', mode='w')"
   ]
  },
  {
   "cell_type": "code",
   "execution_count": 32,
   "id": "04e5de57-2aef-4a70-b0e1-ee674035a6eb",
   "metadata": {},
   "outputs": [
    {
     "name": "stdout",
     "output_type": "stream",
     "text": [
      "-0.0718545816522999\n",
      "-0.05920740271829096\n",
      "-0.17158585995331455\n",
      "0.17059390404339836\n",
      "0.10866876003285691\n",
      "0.10937175756547031\n"
     ]
    }
   ],
   "source": [
    "print(min(df_MI_total['S1-WT']))\n",
    "print(min(df_MI_total['S15-WT']))\n",
    "print(min(df_MI_total['S15-S1']))\n",
    "\n",
    "print(max(df_MI_total['S1-WT']))\n",
    "print(max(df_MI_total['S15-WT']))\n",
    "print(max(df_MI_total['S15-S1']))"
   ]
  },
  {
   "cell_type": "code",
   "execution_count": 33,
   "id": "8e1c0f1e-4fb6-4b88-9439-c084d25860fe",
   "metadata": {},
   "outputs": [
    {
     "data": {
      "image/png": "[encoded data removed]",
      "text/plain": [
       "<Figure size 1000x200 with 1 Axes>"
      ]
     },
     "metadata": {},
     "output_type": "display_data"
    }
   ],
   "source": [
    "plt.figure(figsize=[10,2])\n",
    "#plt.scatter( cpmg, [1]*len(cpmg), color='red')\n",
    "\n",
    "plt.bar(df_MI_total.index+1, df_MI_total['WT_MI'], color='#888985', label='WT Global MI')\n",
    "plt.bar(df_MI_total.index+1, df_MI_total['S1_MI'],color='#BC60A5', label='S1 Global MI')\n",
    "plt.bar(df_MI_total.index+1, df_MI_total['S15_MI'], color='#5AC8E0', label='S15 Global MI')\n",
    "\n",
    "plt.ylabel(r'MI', weight='bold', fontsize=14) \n",
    "plt.xlabel('Residue Number',     weight='bold', fontsize=14) \n",
    "plt.xticks(np.arange(0,140,5),weight='bold', fontsize=10)\n",
    "plt.yticks(weight='bold', fontsize=10)\n",
    "plt.legend(fontsize=8)\n",
    "plt.tight_layout()\n",
    "plt.savefig('CPMG.pdf', dpi=300, transparent=True)\n",
    "plt.show()"
   ]
  },
  {
   "cell_type": "code",
   "execution_count": null,
   "id": "238653c1-2354-47a7-8fc8-5a8737260a6e",
   "metadata": {},
   "outputs": [],
   "source": []
  }
 ],
 "metadata": {
  "kernelspec": {
   "display_name": "Python 3 (ipykernel)",
   "language": "python",
   "name": "python3"
  },
  "language_info": {
   "codemirror_mode": {
    "name": "ipython",
    "version": 3
   },
   "file_extension": ".py",
   "mimetype": "text/x-python",
   "name": "python",
   "nbconvert_exporter": "python",
   "pygments_lexer": "ipython3",
   "version": "3.12.4"
  }
 },
 "nbformat": 4,
 "nbformat_minor": 5
}
