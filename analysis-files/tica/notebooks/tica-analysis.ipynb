{
 "cells": [
  {
   "cell_type": "markdown",
   "id": "b099583d-aaaa-4741-87d6-1c40fa71da35",
   "metadata": {
    "jp-MarkdownHeadingCollapsed": true
   },
   "source": [
    "### Import packages"
   ]
  },
  {
   "cell_type": "code",
   "execution_count": 2,
   "id": "2a02aefb-0858-4f3c-8b1a-d3b84f7a27a0",
   "metadata": {},
   "outputs": [],
   "source": [
    "import pyemma as py\n",
    "import mdtraj as md\n",
    "import numpy as np\n",
    "import matplotlib.pyplot as plt\n",
    "import itertools\n",
    "import seaborn as sns\n",
    "from scipy.stats import pearsonr"
   ]
  },
  {
   "cell_type": "markdown",
   "id": "da130c32-d679-407e-ac5f-d15b82084bd2",
   "metadata": {},
   "source": [
    "### Import distances"
   ]
  },
  {
   "cell_type": "code",
   "execution_count": null,
   "id": "6817de3e-f665-4361-b46e-b9d7eb3a168c",
   "metadata": {},
   "outputs": [],
   "source": [
    "# import distances:\n",
    "load_path = '../'\n",
    "# WT:\n",
    "which_system = '1m47_c125s'\n",
    "distances_data_wt = np.load(f'{load_path}data/system_{which_system}_distances_cpmg_ILV.npy')\n",
    "WT_resis     = np.load(f'{load_path}data/system_{which_system}_distances_cpmg_ILV_resis.npy', allow_pickle=True)\n",
    "pdb_path = f'/Users/ssolieva/Desktop/bowman_lab/projects/IL2/simulations/IL2_simulations_{which_system}/{which_system}-prot-masses.pdb'\n",
    "top_file = md.load(pdb_path) # load in the pdb file\n",
    "# S15\n",
    "which_system = 'seq15_c125s'\n",
    "distances_data_s15 = np.load(f'{load_path}data/system_{which_system}_distances_cpmg_ILV.npy')\n",
    "S15_resis     = np.load(f'{load_path}data/system_{which_system}_distances_cpmg_ILV_resis.npy', allow_pickle=True)\n",
    "# S1\n",
    "which_system = 'seq1_c123s'\n",
    "distances_data_s1 = np.load(f'{load_path}data/system_{which_system}_distances_cpmg_ILV.npy')\n",
    "S1_resis     = np.load(f'{load_path}data/system_{which_system}_distances_cpmg_ILV_resis.npy', allow_pickle=True)"
   ]
  },
  {
   "cell_type": "markdown",
   "id": "6dc1573c-3597-40bb-a0cd-a3ff32cc6e47",
   "metadata": {
    "jp-MarkdownHeadingCollapsed": true
   },
   "source": [
    "## tICA"
   ]
  },
  {
   "cell_type": "markdown",
   "id": "cb16f3e5-ef0e-4a43-a8c0-e26a43f74a5c",
   "metadata": {
    "jp-MarkdownHeadingCollapsed": true
   },
   "source": [
    "### tica: calculation"
   ]
  },
  {
   "cell_type": "code",
   "execution_count": null,
   "id": "1cb9c90d-e95c-435f-b07e-1ee9a1151b68",
   "metadata": {},
   "outputs": [],
   "source": [
    "# tica calculation:\n",
    "distances_data_all = np.concatenate([distances_data_wt,distances_data_s15,distances_data_s1])\n",
    "tica = py.coordinates.tica(list(distances_data_all), lag=50)\n",
    "tica_output = tica.get_output()\n",
    "tica_concatenated = np.concatenate(tica_output)"
   ]
  },
  {
   "cell_type": "markdown",
   "id": "3f8f552c-190a-43b6-85d3-0422ed513cf1",
   "metadata": {
    "jp-MarkdownHeadingCollapsed": true
   },
   "source": [
    "### tica: maps"
   ]
  },
  {
   "cell_type": "markdown",
   "id": "8618187f-5702-48bc-8717-a091154f974d",
   "metadata": {},
   "source": [
    "#### WT+seq1+seq15"
   ]
  },
  {
   "cell_type": "code",
   "execution_count": null,
   "id": "eb878e25-4d86-4aad-9cf8-668b3e718963",
   "metadata": {},
   "outputs": [],
   "source": [
    "# tica map:\n",
    "fig, axes = plt.subplots(1, 1, figsize=(6, 4))\n",
    "py.plots.plot_density(*tica_concatenated[:, :2].T, ax=axes, logscale=True)\n",
    "axes.set_xlabel('IC1', fontsize=14)\n",
    "axes.set_ylabel('IC2', fontsize=14)\n",
    "plt.title(\"tICA built using ILV cpmg resis distances\", fontsize=14)\n",
    "#plt.savefig('../figures/c125s_tica_IC1_IC2.png', dpi=300)\n",
    "fig.tight_layout()\n",
    "plt.show()"
   ]
  },
  {
   "cell_type": "markdown",
   "id": "fa23b2ec-2d08-4cea-8aa4-3f9b0c3fe498",
   "metadata": {},
   "source": [
    "#### Each system projected separately"
   ]
  },
  {
   "cell_type": "code",
   "execution_count": 4,
   "id": "01256678-7142-44cc-b922-6cfde9b3006f",
   "metadata": {},
   "outputs": [
    {
     "ename": "NameError",
     "evalue": "name 'tica_concatenated' is not defined",
     "output_type": "error",
     "traceback": [
      "\u001b[0;31m---------------------------------------------------------------------------\u001b[0m",
      "\u001b[0;31mNameError\u001b[0m                                 Traceback (most recent call last)",
      "Input \u001b[0;32mIn [4]\u001b[0m, in \u001b[0;36m<cell line: 15>\u001b[0;34m()\u001b[0m\n\u001b[1;32m     13\u001b[0m     plt\u001b[38;5;241m.\u001b[39msavefig(\u001b[38;5;124mf\u001b[39m\u001b[38;5;124m'\u001b[39m\u001b[38;5;124m../figures/c125s_tica_\u001b[39m\u001b[38;5;132;01m{\u001b[39;00mtitle\u001b[38;5;132;01m}\u001b[39;00m\u001b[38;5;124m.png\u001b[39m\u001b[38;5;124m'\u001b[39m)\n\u001b[1;32m     14\u001b[0m     plt\u001b[38;5;241m.\u001b[39mshow()\n\u001b[0;32m---> 15\u001b[0m ic1 \u001b[38;5;241m=\u001b[39m \u001b[43mtica_concatenated\u001b[49m[:, \u001b[38;5;241m0\u001b[39m:\u001b[38;5;241m1\u001b[39m]\n\u001b[1;32m     16\u001b[0m ic2 \u001b[38;5;241m=\u001b[39m tica_concatenated[:, \u001b[38;5;241m1\u001b[39m:\u001b[38;5;241m2\u001b[39m]\n\u001b[1;32m     17\u001b[0m generate_tica_plot(ic1[:\u001b[38;5;241m250100\u001b[39m],         ic2[:\u001b[38;5;241m250100\u001b[39m],        \u001b[38;5;124m'\u001b[39m\u001b[38;5;124mWT_c125s\u001b[39m\u001b[38;5;124m'\u001b[39m,  [\u001b[38;5;241m0\u001b[39m,\u001b[38;5;241m0.85\u001b[39m],    [\u001b[38;5;241m1.2\u001b[39m,\u001b[38;5;241m-\u001b[39m\u001b[38;5;241m1\u001b[39m])\n",
      "\u001b[0;31mNameError\u001b[0m: name 'tica_concatenated' is not defined"
     ]
    }
   ],
   "source": [
    "# project each system separately\n",
    "def generate_tica_plot(IC1_data, IC2_data, title, scatter_point1, scatter_point2):\n",
    "    plt.figure(figsize=[4,4])\n",
    "    plt.hexbin(IC1_data, IC2_data, bins='log', cmap='inferno')\n",
    "    plt.title(title, fontsize=20, weight='bold')\n",
    "    plt.xlabel(\"IC1\", fontsize=18, weight='bold')\n",
    "    plt.ylabel(\"IC2\", fontsize=18, weight='bold')\n",
    "    plt.xticks(fontsize=16)\n",
    "    plt.yticks(fontsize=16)\n",
    "    plt.ylim(-5,2)\n",
    "    plt.xlim(-4,4)\n",
    "    plt.tight_layout()\n",
    "    plt.savefig(f'../figures/c125s_tica_{title}.png')\n",
    "    plt.show()\n",
    "ic1 = tica_concatenated[:, 0:1]\n",
    "ic2 = tica_concatenated[:, 1:2]\n",
    "generate_tica_plot(ic1[:250100],         ic2[:250100],        'WT_c125s',  [0,0.85],    [1.2,-1])\n",
    "generate_tica_plot(ic1[250100:250100*2], ic2[250100:250100*2],'S15_c125s', [0.25,0.85], [2.5,-2])\n",
    "generate_tica_plot(ic1[250100*2:],       ic2[250100*2:],      'S1_c123s',  [-0.3,0.85], [-1.2,-1])\n",
    "\n",
    "plt.figure(figsize=[4,4])\n",
    "plt.scatter(ic1[250100:250100*2],ic2[250100:250100*2],color='#5AC8E0', label='S15')\n",
    "plt.scatter(ic1[0:250100],       ic2[0:250100],       color='#888985', label='WT')\n",
    "plt.scatter(ic1[250100*2:],      ic2[250100*2:],      color='#BC60A5', label='S1')\n",
    "plt.title(\"Combined\", fontsize=20, weight='bold')\n",
    "plt.xlabel(\"IC1\", fontsize=18, weight='bold')\n",
    "plt.ylabel(\"IC2\", fontsize=18, weight='bold')\n",
    "plt.xticks(fontsize=16)\n",
    "plt.yticks(fontsize=16)\n",
    "plt.ylim(-5,2)\n",
    "plt.xlim(-4,4)\n",
    "plt.legend(fontsize=12)\n",
    "plt.tight_layout()\n",
    "plt.savefig(f'../figures/c125s_tica_all.png')\n",
    "plt.show()"
   ]
  },
  {
   "cell_type": "markdown",
   "id": "e960b4e8-2200-45c3-aba8-d52348b31d52",
   "metadata": {
    "jp-MarkdownHeadingCollapsed": true
   },
   "source": [
    "### tica: top features"
   ]
  },
  {
   "cell_type": "markdown",
   "id": "ec735212-47e0-47f9-bcc9-6b1a3471e0e0",
   "metadata": {},
   "source": [
    "#### Calculate top features"
   ]
  },
  {
   "cell_type": "code",
   "execution_count": null,
   "id": "150e2353-39ba-4491-8da1-fac8359ebc06",
   "metadata": {},
   "outputs": [],
   "source": [
    "# make atom pairs\n",
    "IL_WT_S15_resin = '12 14 17 18 19 21 24 25 36 40 53 59 63 66 70 89 94 96 114 118 122 128 129 132'\n",
    "V_WT_S15_resin  = '91 93'\n",
    "IL_S1_resin     = '12 14 17 18 19 21 24 25 36 40 53 59 63 66 70 87 92 94 112 116 120 126 127 130'\n",
    "V_S1_resin      = '89 91'\n",
    "atom_indices_IL = top_file.topology.select(f'residue {IL_WT_S15_resin} and name CD1')\n",
    "atom_indices_V = top_file.topology.select(f'residue {V_WT_S15_resin} and name CG1')\n",
    "atom_indices1 = np.unique(np.concatenate([atom_indices_IL, atom_indices_V])) # put in order\n",
    "atom_indices = np.unique(atom_indices1)\n",
    "atom_pairs = list(itertools.combinations(atom_indices, 2))\n",
    "print(len(atom_pairs))\n",
    "resi_n_names = []\n",
    "for i in range(len(atom_indices1)):\n",
    "    resi_n_names.append(top_file.topology.atom(atom_indices[i]).residue)\n",
    "print(resi_n_names)\n",
    "distances_feat = py.coordinates.featurizer(top_file)\n",
    "distances_feat.add_distances(atom_pairs)\n",
    "pairs_of_resis = list(distances_feat.describe())\n",
    "\n",
    "# find top features \n",
    "r2 = np.transpose(np.concatenate(distances_data_all, axis = 0))\n",
    "print('TOP FEATURES FOR TICA PLOT (COMBINED WT S1 and S15 SIMULATIONS)')\n",
    "print(\"(number of features, values): \", r2.shape)\n",
    "# for each feature, find its standard deviation\n",
    "standard_deviations = []\n",
    "for i in range(len(r2)):\n",
    "    standard_deviations.append(np.std(r2[i]))\n",
    "V = tica.eigenvectors\n",
    "tIC1 = V[:,0]\n",
    "tIC2 = V[:,1]\n",
    "normalized_tIC1 = tIC1 * standard_deviations\n",
    "normalized_tIC2 = tIC2 * standard_deviations\n",
    "# save normalized tICs:\n",
    "normalized_tIC_list = [normalized_tIC1,normalized_tIC2]\n",
    "t=5 # how many features to print out\n",
    "tICs_list_for_feature_printing = [normalized_tIC1,normalized_tIC2,]\n",
    "for c in range(2):\n",
    "    top_features = np.argsort(-np.abs(tICs_list_for_feature_printing[c]))\n",
    "    print(\"\\nIC\",c+1, top_features[0:t])\n",
    "    for i in range(t):\n",
    "        which_pair = top_features[i]\n",
    "        print(i, list(distances_feat.describe())[which_pair])\n"
   ]
  },
  {
   "cell_type": "markdown",
   "id": "aa9eda76-f62e-4d6a-a6a9-93662797f03a",
   "metadata": {},
   "source": [
    "#### Plot top features"
   ]
  },
  {
   "cell_type": "code",
   "execution_count": null,
   "id": "f9c04aa8-d2ea-4174-ac5a-9d73c017b4c8",
   "metadata": {},
   "outputs": [],
   "source": [
    "plt.figure(figsize=[15,2])\n",
    "plt.bar(np.arange(len(normalized_tIC1)), normalized_tIC1, color='blue')\n",
    "#plt.scatter([201,133,48,43,257], bar_points)\n",
    "plt.xlabel('residue pair', fontsize=10, weight='bold')\n",
    "plt.xticks(np.arange(0, len(normalized_tIC1), 20))\n",
    "plt.title('normalized IC1 values', fontsize=10, weight='bold')\n",
    "plt.tight_layout()\n",
    "plt.savefig('../figures/c125s_normalized_IC1.png')\n",
    "plt.show()\n",
    "\n",
    "plt.figure(figsize=[15,2])\n",
    "plt.bar(np.arange(len(normalized_tIC2)), normalized_tIC2, color='purple')\n",
    "plt.xlabel('residue pair', fontsize=10, weight='bold')\n",
    "plt.xticks(np.arange(0, len(normalized_tIC2), 20))\n",
    "plt.title('normalized IC2 values', fontsize=10, weight='bold')\n",
    "plt.tight_layout()\n",
    "plt.savefig('../figures/c125s_normalized_IC2.png')\n",
    "plt.show()\n",
    "\n",
    "plt.figure(figsize=[15,2])\n",
    "plt.bar(np.arange(len(normalized_tIC1)), normalized_tIC1, color='gray')\n",
    "for i in range(len(normalized_tIC1)):\n",
    "    if np.abs(normalized_tIC1[i]) > 0.15:\n",
    "       plt.scatter(i,normalized_tIC1[i],color='r') \n",
    "\n",
    "plt.xlabel('residue pair', fontsize=10, weight='bold')\n",
    "plt.xticks(np.arange(0, len(normalized_tIC1), 20))\n",
    "plt.title('normalized IC1 values', fontsize=10, weight='bold')\n",
    "plt.tight_layout()\n",
    "#plt.savefig('../figures/c125s_normalized_IC1.png')\n",
    "plt.show()\n",
    "\n",
    "plt.figure(figsize=[15,2])\n",
    "plt.bar(np.arange(len(normalized_tIC2)), normalized_tIC2, color='lightgray')\n",
    "for i in range(len(normalized_tIC2)):\n",
    "    if np.abs(normalized_tIC2[i]) > 0.15:\n",
    "       plt.scatter(i,normalized_tIC2[i],color='r') \n",
    "plt.xlabel('residue pair', fontsize=10, weight='bold')\n",
    "plt.xticks(np.arange(0, len(normalized_tIC2), 20))\n",
    "plt.title('normalized IC2 values', fontsize=10, weight='bold')\n",
    "plt.tight_layout()\n",
    "#plt.savefig('../figures/c125s_normalized_IC1.png')\n",
    "plt.show()\n",
    "\n",
    "for c in range(240,270):\n",
    "    print(c, list(distances_feat.describe())[c])"
   ]
  },
  {
   "cell_type": "markdown",
   "id": "4f321e14-d245-4ea4-a7c3-e7e551dad58f",
   "metadata": {
    "jp-MarkdownHeadingCollapsed": true
   },
   "source": [
    "## plot distance distributions"
   ]
  },
  {
   "cell_type": "code",
   "execution_count": 4,
   "id": "f387971b-db33-4861-ba23-5c5f09d84f1c",
   "metadata": {},
   "outputs": [
    {
     "name": "stdout",
     "output_type": "stream",
     "text": [
      "266 DIST: LEU 70 CD1 1171 - ILE 122 CD1 2023\n"
     ]
    },
    {
     "data": {
      "image/png": "[encoded data removed]",
      "text/plain": [
       "<Figure size 432x216 with 1 Axes>"
      ]
     },
     "metadata": {
      "needs_background": "light"
     },
     "output_type": "display_data"
    },
    {
     "data": {
      "image/png": "[encoded data removed]",
      "text/plain": [
       "<Figure size 432x216 with 1 Axes>"
      ]
     },
     "metadata": {
      "needs_background": "light"
     },
     "output_type": "display_data"
    }
   ],
   "source": [
    "r2_wt = np.transpose(np.concatenate(distances_data_wt, axis=0))\n",
    "r2_s15= np.transpose(np.concatenate(distances_data_s15, axis=0))\n",
    "r2_s1 = np.transpose(np.concatenate(distances_data_s1,  axis=0))\n",
    "\n",
    "for i in range(266,267):\n",
    "    print(i, list(distances_feat.describe())[i])\n",
    "    \n",
    "WT_B_bending = np.mean([r2_wt[205], r2_wt[206], r2_wt[207], r2_wt[208]], axis=0)\n",
    "S15_B_bending= np.mean([r2_s15[205],r2_s15[206],r2_s15[207],r2_s15[208]],axis=0)\n",
    "S1_B_bending = np.mean([r2_s1[205], r2_s1[206], r2_s1[207], r2_s1[208]], axis=0)\n",
    "\n",
    "WT_B_shift =   np.mean([r2_wt[150], r2_wt[266]], axis=0)\n",
    "S15_B_shift=   np.mean([r2_s15[150],r2_s15[266]],axis=0)\n",
    "S1_B_shift=    np.mean([r2_s1[150], r2_s1[266]], axis=0)\n",
    "\n",
    "plt.figure(figsize=[6,3])\n",
    "angstrom = r'$\\bf{\\AA}$'\n",
    "#resi1 = f'{list(distances_feat.describe())[which_pair][6:16]}'\n",
    "#resi2 = f'{list(distances_feat.describe())[which_pair][23:33]}'\n",
    "plt.title(\"B Helix Bending Motion\",fontsize=16, weight='bold')\n",
    "plt.xlabel(f\"avg. distance ({angstrom}) L53 to L59, L63, L66, L70\", fontsize=14, weight='bold')\n",
    "plt.ylabel('Density',fontsize=14, weight='bold')\n",
    "sns.kdeplot(WT_B_bending*10,  c='#888985', label='WT',   linewidth=5)\n",
    "sns.kdeplot(S15_B_bending*10, c='#5AC8E0', label='S15',   linewidth=5)\n",
    "sns.kdeplot(S1_B_bending*10,  c='#BC60A5', label='S1',   linewidth=5)\n",
    "plt.xticks(fontsize=12, weight='bold')\n",
    "plt.yticks(fontsize=12, weight='bold')\n",
    "plt.legend(fontsize=14)\n",
    "plt.tight_layout()\n",
    "plt.savefig(f'../figures/c125s_dist_pair_avg_205_206_207_208.pdf', transparent=True, dpi=300)\n",
    "plt.show()\n",
    "\n",
    "plt.figure(figsize=[6,3])\n",
    "angstrom = r'$\\bf{\\AA}$'\n",
    "#resi1 = f'{list(distances_feat.describe())[which_pair][6:16]}'\n",
    "#resi2 = f'{list(distances_feat.describe())[which_pair][23:33]}'\n",
    "plt.title(\"B Helix Shifting Motion\",fontsize=16, weight='bold')\n",
    "plt.xlabel(f\"avg. distance ({angstrom}) I122 to I24, L70\", fontsize=14, weight='bold')\n",
    "plt.ylabel('Density',fontsize=14, weight='bold')\n",
    "sns.kdeplot(WT_B_shift*10,  c='#888985', label='WT',   linewidth=5)\n",
    "sns.kdeplot(S15_B_shift*10, c='#5AC8E0', label='S15',   linewidth=5)\n",
    "sns.kdeplot(S1_B_shift*10,  c='#BC60A5', label='S1',   linewidth=5)\n",
    "plt.xticks(fontsize=12, weight='bold')\n",
    "plt.yticks(fontsize=12, weight='bold')\n",
    "plt.legend(fontsize=14)\n",
    "plt.tight_layout()\n",
    "plt.savefig(f'../figures/c125s_dist_pair_avg_150_266.pdf', transparent=True, dpi=300)\n",
    "plt.show()"
   ]
  }
 ],
 "metadata": {
  "kernelspec": {
   "display_name": "Python 3 (ipykernel)",
   "language": "python",
   "name": "python3"
  },
  "language_info": {
   "codemirror_mode": {
    "name": "ipython",
    "version": 3
   },
   "file_extension": ".py",
   "mimetype": "text/x-python",
   "name": "python",
   "nbconvert_exporter": "python",
   "pygments_lexer": "ipython3",
   "version": "3.8.15"
  }
 },
 "nbformat": 4,
 "nbformat_minor": 5
}
